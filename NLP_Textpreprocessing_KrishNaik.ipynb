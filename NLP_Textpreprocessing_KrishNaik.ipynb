{
  "nbformat": 4,
  "nbformat_minor": 0,
  "metadata": {
    "colab": {
      "provenance": [],
      "collapsed_sections": [
        "fkR-xj0RaC4G"
      ],
      "authorship_tag": "ABX9TyMxeCK52SyVxvldizTxbzwm",
      "include_colab_link": true
    },
    "kernelspec": {
      "name": "python3",
      "display_name": "Python 3"
    },
    "language_info": {
      "name": "python"
    }
  },
  "cells": [
    {
      "cell_type": "markdown",
      "metadata": {
        "id": "view-in-github",
        "colab_type": "text"
      },
      "source": [
        "<a href=\"https://colab.research.google.com/github/vineela-2315/NLP_PRACTICE/blob/main/NLP_Textpreprocessing_KrishNaik.ipynb\" target=\"_parent\"><img src=\"https://colab.research.google.com/assets/colab-badge.svg\" alt=\"Open In Colab\"/></a>"
      ]
    },
    {
      "cell_type": "code",
      "execution_count": 1,
      "metadata": {
        "id": "28n4oI3WT-Aw"
      },
      "outputs": [],
      "source": [
        "#as like traditional ML,for NLP also we need to clean /preprocess the text.\n",
        "#The techniques are Tokenization,Lemmetization,stemming\n",
        "#tokenization-splitting para to words\n",
        "#stemming-get the meaning (round the suff/prefix to root word)"
      ]
    },
    {
      "cell_type": "code",
      "source": [
        "!pip install nltk"
      ],
      "metadata": {
        "colab": {
          "base_uri": "https://localhost:8080/"
        },
        "id": "9BQdQLo2UV5r",
        "outputId": "0cb3141c-2ca7-44b1-b5eb-08b57d3f750c"
      },
      "execution_count": 2,
      "outputs": [
        {
          "output_type": "stream",
          "name": "stdout",
          "text": [
            "Requirement already satisfied: nltk in /usr/local/lib/python3.11/dist-packages (3.9.1)\n",
            "Requirement already satisfied: click in /usr/local/lib/python3.11/dist-packages (from nltk) (8.2.1)\n",
            "Requirement already satisfied: joblib in /usr/local/lib/python3.11/dist-packages (from nltk) (1.5.1)\n",
            "Requirement already satisfied: regex>=2021.8.3 in /usr/local/lib/python3.11/dist-packages (from nltk) (2024.11.6)\n",
            "Requirement already satisfied: tqdm in /usr/local/lib/python3.11/dist-packages (from nltk) (4.67.1)\n"
          ]
        }
      ]
    },
    {
      "cell_type": "markdown",
      "source": [
        "### tokenization"
      ],
      "metadata": {
        "id": "jFpLDJTxMdiE"
      }
    },
    {
      "cell_type": "code",
      "source": [
        "corpus=\"\"\"Vineela is good girl.She's very much intrested in data science field.she has son named Nishanth\"\"\"\n",
        "#as like baby learning ,first we need to split para to sentences,then sentences to words,then words to unique words.\n",
        "print(corpus)\n"
      ],
      "metadata": {
        "colab": {
          "base_uri": "https://localhost:8080/"
        },
        "id": "hQzHwwbeUfmS",
        "outputId": "f7bac996-dcc7-4982-dc0d-c71a3b5410e2"
      },
      "execution_count": 3,
      "outputs": [
        {
          "output_type": "stream",
          "name": "stdout",
          "text": [
            "Vineela is good girl.She's very much intrested in data science field.she has son named Nishanth\n"
          ]
        }
      ]
    },
    {
      "cell_type": "code",
      "source": [
        "import nltk\n",
        "nltk.download('punkt_tab')#punkttab is model which sent tokenize use internally.\n",
        "\n",
        "from nltk.tokenize import sent_tokenize\n",
        "d=sent_tokenize(corpus)\n",
        "print(d)\n",
        "#it gives list of elements"
      ],
      "metadata": {
        "colab": {
          "base_uri": "https://localhost:8080/"
        },
        "id": "ozq_vAerVRg-",
        "outputId": "c0e2b9bc-78b4-493f-8f25-4ffe513d4f73"
      },
      "execution_count": 4,
      "outputs": [
        {
          "output_type": "stream",
          "name": "stderr",
          "text": [
            "[nltk_data] Downloading package punkt_tab to /root/nltk_data...\n",
            "[nltk_data]   Unzipping tokenizers/punkt_tab.zip.\n"
          ]
        },
        {
          "output_type": "stream",
          "name": "stdout",
          "text": [
            "[\"Vineela is good girl.She's very much intrested in data science field.she has son named Nishanth\"]\n"
          ]
        }
      ]
    },
    {
      "cell_type": "code",
      "source": [
        "for i in d:\n",
        "  print (i)"
      ],
      "metadata": {
        "colab": {
          "base_uri": "https://localhost:8080/"
        },
        "id": "EJjEQa6_WvOU",
        "outputId": "b6697861-addb-4316-b334-0d578b45a46b"
      },
      "execution_count": 5,
      "outputs": [
        {
          "output_type": "stream",
          "name": "stdout",
          "text": [
            "Vineela is good girl.She's very much intrested in data science field.she has son named Nishanth\n"
          ]
        }
      ]
    },
    {
      "cell_type": "code",
      "source": [
        "#directly we can convert para to words instead of sentences\n",
        "from nltk.tokenize import word_tokenize\n",
        "e=word_tokenize(corpus)\n",
        "print(e)"
      ],
      "metadata": {
        "colab": {
          "base_uri": "https://localhost:8080/"
        },
        "id": "yqckxj-bYG_G",
        "outputId": "6241a583-ea18-4c68-844b-50f679293866"
      },
      "execution_count": 6,
      "outputs": [
        {
          "output_type": "stream",
          "name": "stdout",
          "text": [
            "['Vineela', 'is', 'good', 'girl.She', \"'s\", 'very', 'much', 'intrested', 'in', 'data', 'science', 'field.she', 'has', 'son', 'named', 'Nishanth']\n"
          ]
        }
      ]
    },
    {
      "cell_type": "code",
      "source": [
        "#separates based on punctuations i,e fullstop,camma.\n",
        "from nltk.tokenize import wordpunct_tokenize\n",
        "f=wordpunct_tokenize(corpus)\n",
        "print(f)"
      ],
      "metadata": {
        "colab": {
          "base_uri": "https://localhost:8080/"
        },
        "id": "UlTQnOLKYlAU",
        "outputId": "bcb49d93-4b79-47e7-beb7-151e3b997c6f"
      },
      "execution_count": 7,
      "outputs": [
        {
          "output_type": "stream",
          "name": "stdout",
          "text": [
            "['Vineela', 'is', 'good', 'girl', '.', 'She', \"'\", 's', 'very', 'much', 'intrested', 'in', 'data', 'science', 'field', '.', 'she', 'has', 'son', 'named', 'Nishanth']\n"
          ]
        }
      ]
    },
    {
      "cell_type": "markdown",
      "source": [
        "### Stemming"
      ],
      "metadata": {
        "id": "fkR-xj0RaC4G"
      }
    },
    {
      "cell_type": "code",
      "source": [
        "\n",
        "words=[\"eating\",\"eats\",\"eaten\",\"writing\",\"writes\",\"history\",\"finally\",\"finalized\",\"congratulations\",\"Fairly\",\"sportingly\",\"ingeating\"]\n",
        "for i in words:\n",
        "  print(i)"
      ],
      "metadata": {
        "colab": {
          "base_uri": "https://localhost:8080/"
        },
        "id": "W4rP8KyTaKsF",
        "outputId": "2565c9a7-680c-47af-9b6a-ab8990652b13"
      },
      "execution_count": 8,
      "outputs": [
        {
          "output_type": "stream",
          "name": "stdout",
          "text": [
            "eating\n",
            "eats\n",
            "eaten\n",
            "writing\n",
            "writes\n",
            "history\n",
            "finally\n",
            "finalized\n",
            "congratulations\n",
            "Fairly\n",
            "sportingly\n",
            "ingeating\n"
          ]
        }
      ]
    },
    {
      "cell_type": "code",
      "source": [
        "from nltk.stem import PorterStemmer\n",
        "s=PorterStemmer()\n",
        "for i in words:\n",
        "  print(s.stem(i))\n",
        "#we can observe congratula desnt have meaning,this can be fix by lemmetization"
      ],
      "metadata": {
        "colab": {
          "base_uri": "https://localhost:8080/"
        },
        "id": "rBttWUmVa5cX",
        "outputId": "435b53f3-acfb-4af7-b1ee-a72742880974"
      },
      "execution_count": 9,
      "outputs": [
        {
          "output_type": "stream",
          "name": "stdout",
          "text": [
            "eat\n",
            "eat\n",
            "eaten\n",
            "write\n",
            "write\n",
            "histori\n",
            "final\n",
            "final\n",
            "congratul\n",
            "fairli\n",
            "sportingli\n",
            "ingeat\n"
          ]
        }
      ]
    },
    {
      "cell_type": "code",
      "source": [
        "#snowball stemmer -its better thhan porterstemmer(see fair,sport-done correctly .also incorrect for history,congratulations,so we go for lemmetization.)\n",
        "from nltk.stem import SnowballStemmer\n",
        "s=SnowballStemmer('english')\n",
        "for i in words:\n",
        "  print(s.stem(i))"
      ],
      "metadata": {
        "colab": {
          "base_uri": "https://localhost:8080/"
        },
        "id": "V0mb9vpjcC5V",
        "outputId": "59ac609e-3929-43b7-d1dd-cd565abc796d"
      },
      "execution_count": 10,
      "outputs": [
        {
          "output_type": "stream",
          "name": "stdout",
          "text": [
            "eat\n",
            "eat\n",
            "eaten\n",
            "write\n",
            "write\n",
            "histori\n",
            "final\n",
            "final\n",
            "congratul\n",
            "fair\n",
            "sport\n",
            "ingeat\n"
          ]
        }
      ]
    },
    {
      "cell_type": "code",
      "source": [
        "#regexpstemmer=it takes singular expression,removes prefix/suffix that match expression\n",
        "from nltk.stem import RegexpStemmer\n",
        "r=RegexpStemmer('ing$|s$|e$|able$|ed$')\n",
        "for i in words:\n",
        "  print(r.stem(i))"
      ],
      "metadata": {
        "colab": {
          "base_uri": "https://localhost:8080/"
        },
        "id": "pWU6TbNbcb9V",
        "outputId": "54ccc991-89ef-4504-b91e-4bef53c4325e"
      },
      "execution_count": 11,
      "outputs": [
        {
          "output_type": "stream",
          "name": "stdout",
          "text": [
            "eat\n",
            "eat\n",
            "eaten\n",
            "writ\n",
            "write\n",
            "history\n",
            "finally\n",
            "finaliz\n",
            "congratulation\n",
            "Fairly\n",
            "sportingly\n",
            "ingeat\n"
          ]
        }
      ]
    },
    {
      "cell_type": "markdown",
      "source": [
        "### Lemmetization"
      ],
      "metadata": {
        "id": "zSmSWqnwd_Bx"
      }
    },
    {
      "cell_type": "code",
      "source": [
        "#slower but expensive\n",
        "'''\n",
        "Pos=n for noun,by default-so not good for names\n",
        "n=Noun\n",
        "v=verb\n",
        "a=adjective\n",
        "r=adverb\n",
        "'''\n",
        "words=[\"eating\",\"eats\",\"eaten\",\"writing\",\"writes\",\"history\",\"finally\",\"finalized\",\"congratulations\",\"Fairly\",\"sportingly\",\"ingeating\"]\n",
        "\n",
        "from nltk.stem import WordNetLemmatizer\n",
        "nltk.download('wordnet')\n",
        "l=WordNetLemmatizer()\n",
        "for i in words:\n",
        "  print(i+'---->'+l.lemmatize(i,pos='a'))\n"
      ],
      "metadata": {
        "colab": {
          "base_uri": "https://localhost:8080/"
        },
        "id": "J1IgLHOneDLl",
        "outputId": "c6506bfc-2d8a-4e06-db02-40fb8ff1e7fb"
      },
      "execution_count": 12,
      "outputs": [
        {
          "output_type": "stream",
          "name": "stderr",
          "text": [
            "[nltk_data] Downloading package wordnet to /root/nltk_data...\n"
          ]
        },
        {
          "output_type": "stream",
          "name": "stdout",
          "text": [
            "eating---->eating\n",
            "eats---->eats\n",
            "eaten---->eaten\n",
            "writing---->writing\n",
            "writes---->writes\n",
            "history---->history\n",
            "finally---->finally\n",
            "finalized---->finalized\n",
            "congratulations---->congratulations\n",
            "Fairly---->Fairly\n",
            "sportingly---->sportingly\n",
            "ingeating---->ingeating\n"
          ]
        }
      ]
    },
    {
      "cell_type": "code",
      "source": [
        "para='''I have three visions for India. In 3000 years of our history people from all over the world have come and invaded us, captured our lands, conquered our minds. From Alexander onwards the Greeks, the Turks, the Moguls, the Portuguese, the British, the French, the Dutch, all of them came and looted us, took over what was ours. Yet we have not done this to any other nation.\n",
        "\n",
        "We have not conquered anyone. We have not grabbed their land, their culture and their history and tried to enforce our way of life on them. Why? Because we respect the freedom of others. That is why my FIRST VISION is that of FREEDOM. I believe that India got its first vision of this in 1857, when we started the war of Independence. It is this freedom that we must protect and nurture and build on. If we are not free, no one will respect us.\n",
        "\n",
        "We have 10 percent growth rate in most areas. Our poverty levels are falling. Our achievements are being globally recognised today. Yet we lack the self-confidence to see ourselves as a developed nation, self-reliant and self-assured. Isn’t this incorrect? MY SECOND VISION for India is DEVELOPMENT. For fifty years we have been a developing nation. It is time we see ourselves as a developed nation. We are among top five nations in the world in terms of GDP.\n",
        "\n",
        "I have a THIRD VISION. India must stand up to the world. Because I believe that unless India stands up to the world, no one will respect us. Only strength respects strength. We must be strong not only as a military power but also as an economic power. Both must go hand-in-hand. My good fortune was to have worked with three great minds. Dr.Vikram Sarabhai, of the Dept. of Space, Professor Satish Dhawan, who succeeded him and Dr. Brahm Prakash, father of nuclear material. I was lucky to have worked with all three of them closely and consider this the great opportunity of my life.\n",
        "\n",
        "I was in Hyderabad giving this lecture, when a 14 year-old girl asked me for my autograph. I asked her what her goal in life is. She replied: I want to live in a developed India. For her, you and I will have to build this developed India. You must proclaim India is not an underdeveloped nation; it is a highly developed nation.\n",
        "\n",
        "You say that our government is inefficient. You say that our laws are too old. You say that the municipality does not pick up the garbage. You say that the phones don’t work, the railways are a joke, the airline is the worst in the world, and mails never reach their destination. You say that our country has been fed to the dogs and is the absolute pits. You say, say and say. What do you do about it?'''"
      ],
      "metadata": {
        "id": "JskSONtEkarG"
      },
      "execution_count": 13,
      "outputs": []
    },
    {
      "cell_type": "code",
      "source": [
        "print(para)\n"
      ],
      "metadata": {
        "colab": {
          "base_uri": "https://localhost:8080/"
        },
        "id": "LiAZux31kh2W",
        "outputId": "fcdc9fae-c8f7-4e72-b700-066409680fef"
      },
      "execution_count": 14,
      "outputs": [
        {
          "output_type": "stream",
          "name": "stdout",
          "text": [
            "I have three visions for India. In 3000 years of our history people from all over the world have come and invaded us, captured our lands, conquered our minds. From Alexander onwards the Greeks, the Turks, the Moguls, the Portuguese, the British, the French, the Dutch, all of them came and looted us, took over what was ours. Yet we have not done this to any other nation.\n",
            "\n",
            "We have not conquered anyone. We have not grabbed their land, their culture and their history and tried to enforce our way of life on them. Why? Because we respect the freedom of others. That is why my FIRST VISION is that of FREEDOM. I believe that India got its first vision of this in 1857, when we started the war of Independence. It is this freedom that we must protect and nurture and build on. If we are not free, no one will respect us.\n",
            "\n",
            "We have 10 percent growth rate in most areas. Our poverty levels are falling. Our achievements are being globally recognised today. Yet we lack the self-confidence to see ourselves as a developed nation, self-reliant and self-assured. Isn’t this incorrect? MY SECOND VISION for India is DEVELOPMENT. For fifty years we have been a developing nation. It is time we see ourselves as a developed nation. We are among top five nations in the world in terms of GDP.\n",
            "\n",
            "I have a THIRD VISION. India must stand up to the world. Because I believe that unless India stands up to the world, no one will respect us. Only strength respects strength. We must be strong not only as a military power but also as an economic power. Both must go hand-in-hand. My good fortune was to have worked with three great minds. Dr.Vikram Sarabhai, of the Dept. of Space, Professor Satish Dhawan, who succeeded him and Dr. Brahm Prakash, father of nuclear material. I was lucky to have worked with all three of them closely and consider this the great opportunity of my life.\n",
            "\n",
            "I was in Hyderabad giving this lecture, when a 14 year-old girl asked me for my autograph. I asked her what her goal in life is. She replied: I want to live in a developed India. For her, you and I will have to build this developed India. You must proclaim India is not an underdeveloped nation; it is a highly developed nation.\n",
            "\n",
            "You say that our government is inefficient. You say that our laws are too old. You say that the municipality does not pick up the garbage. You say that the phones don’t work, the railways are a joke, the airline is the worst in the world, and mails never reach their destination. You say that our country has been fed to the dogs and is the absolute pits. You say, say and say. What do you do about it?\n"
          ]
        }
      ]
    },
    {
      "cell_type": "code",
      "source": [
        "#get stopwords(unnecessary words like to,have..etc)\n",
        "import nltk\n",
        "from nltk.corpus import stopwords\n",
        "nltk.download('stopwords')\n",
        "stopwords.words('english')"
      ],
      "metadata": {
        "colab": {
          "base_uri": "https://localhost:8080/"
        },
        "id": "e-zyGGouk4ln",
        "outputId": "975ac9a2-3827-492f-cc15-2e19874457ab"
      },
      "execution_count": 15,
      "outputs": [
        {
          "output_type": "stream",
          "name": "stderr",
          "text": [
            "[nltk_data] Downloading package stopwords to /root/nltk_data...\n",
            "[nltk_data]   Unzipping corpora/stopwords.zip.\n"
          ]
        },
        {
          "output_type": "execute_result",
          "data": {
            "text/plain": [
              "['a',\n",
              " 'about',\n",
              " 'above',\n",
              " 'after',\n",
              " 'again',\n",
              " 'against',\n",
              " 'ain',\n",
              " 'all',\n",
              " 'am',\n",
              " 'an',\n",
              " 'and',\n",
              " 'any',\n",
              " 'are',\n",
              " 'aren',\n",
              " \"aren't\",\n",
              " 'as',\n",
              " 'at',\n",
              " 'be',\n",
              " 'because',\n",
              " 'been',\n",
              " 'before',\n",
              " 'being',\n",
              " 'below',\n",
              " 'between',\n",
              " 'both',\n",
              " 'but',\n",
              " 'by',\n",
              " 'can',\n",
              " 'couldn',\n",
              " \"couldn't\",\n",
              " 'd',\n",
              " 'did',\n",
              " 'didn',\n",
              " \"didn't\",\n",
              " 'do',\n",
              " 'does',\n",
              " 'doesn',\n",
              " \"doesn't\",\n",
              " 'doing',\n",
              " 'don',\n",
              " \"don't\",\n",
              " 'down',\n",
              " 'during',\n",
              " 'each',\n",
              " 'few',\n",
              " 'for',\n",
              " 'from',\n",
              " 'further',\n",
              " 'had',\n",
              " 'hadn',\n",
              " \"hadn't\",\n",
              " 'has',\n",
              " 'hasn',\n",
              " \"hasn't\",\n",
              " 'have',\n",
              " 'haven',\n",
              " \"haven't\",\n",
              " 'having',\n",
              " 'he',\n",
              " \"he'd\",\n",
              " \"he'll\",\n",
              " 'her',\n",
              " 'here',\n",
              " 'hers',\n",
              " 'herself',\n",
              " \"he's\",\n",
              " 'him',\n",
              " 'himself',\n",
              " 'his',\n",
              " 'how',\n",
              " 'i',\n",
              " \"i'd\",\n",
              " 'if',\n",
              " \"i'll\",\n",
              " \"i'm\",\n",
              " 'in',\n",
              " 'into',\n",
              " 'is',\n",
              " 'isn',\n",
              " \"isn't\",\n",
              " 'it',\n",
              " \"it'd\",\n",
              " \"it'll\",\n",
              " \"it's\",\n",
              " 'its',\n",
              " 'itself',\n",
              " \"i've\",\n",
              " 'just',\n",
              " 'll',\n",
              " 'm',\n",
              " 'ma',\n",
              " 'me',\n",
              " 'mightn',\n",
              " \"mightn't\",\n",
              " 'more',\n",
              " 'most',\n",
              " 'mustn',\n",
              " \"mustn't\",\n",
              " 'my',\n",
              " 'myself',\n",
              " 'needn',\n",
              " \"needn't\",\n",
              " 'no',\n",
              " 'nor',\n",
              " 'not',\n",
              " 'now',\n",
              " 'o',\n",
              " 'of',\n",
              " 'off',\n",
              " 'on',\n",
              " 'once',\n",
              " 'only',\n",
              " 'or',\n",
              " 'other',\n",
              " 'our',\n",
              " 'ours',\n",
              " 'ourselves',\n",
              " 'out',\n",
              " 'over',\n",
              " 'own',\n",
              " 're',\n",
              " 's',\n",
              " 'same',\n",
              " 'shan',\n",
              " \"shan't\",\n",
              " 'she',\n",
              " \"she'd\",\n",
              " \"she'll\",\n",
              " \"she's\",\n",
              " 'should',\n",
              " 'shouldn',\n",
              " \"shouldn't\",\n",
              " \"should've\",\n",
              " 'so',\n",
              " 'some',\n",
              " 'such',\n",
              " 't',\n",
              " 'than',\n",
              " 'that',\n",
              " \"that'll\",\n",
              " 'the',\n",
              " 'their',\n",
              " 'theirs',\n",
              " 'them',\n",
              " 'themselves',\n",
              " 'then',\n",
              " 'there',\n",
              " 'these',\n",
              " 'they',\n",
              " \"they'd\",\n",
              " \"they'll\",\n",
              " \"they're\",\n",
              " \"they've\",\n",
              " 'this',\n",
              " 'those',\n",
              " 'through',\n",
              " 'to',\n",
              " 'too',\n",
              " 'under',\n",
              " 'until',\n",
              " 'up',\n",
              " 've',\n",
              " 'very',\n",
              " 'was',\n",
              " 'wasn',\n",
              " \"wasn't\",\n",
              " 'we',\n",
              " \"we'd\",\n",
              " \"we'll\",\n",
              " \"we're\",\n",
              " 'were',\n",
              " 'weren',\n",
              " \"weren't\",\n",
              " \"we've\",\n",
              " 'what',\n",
              " 'when',\n",
              " 'where',\n",
              " 'which',\n",
              " 'while',\n",
              " 'who',\n",
              " 'whom',\n",
              " 'why',\n",
              " 'will',\n",
              " 'with',\n",
              " 'won',\n",
              " \"won't\",\n",
              " 'wouldn',\n",
              " \"wouldn't\",\n",
              " 'y',\n",
              " 'you',\n",
              " \"you'd\",\n",
              " \"you'll\",\n",
              " 'your',\n",
              " \"you're\",\n",
              " 'yours',\n",
              " 'yourself',\n",
              " 'yourselves',\n",
              " \"you've\"]"
            ]
          },
          "metadata": {},
          "execution_count": 15
        }
      ]
    },
    {
      "cell_type": "code",
      "source": [
        "#first we will do tokenize for he para\n",
        "from nltk.tokenize import sent_tokenize\n",
        "nltk.download('punkt_tab')\n",
        "s=sent_tokenize(para)\n",
        "print(s)"
      ],
      "metadata": {
        "colab": {
          "base_uri": "https://localhost:8080/"
        },
        "id": "ffcpaEMNlQ5n",
        "outputId": "4bb045e3-43c7-4463-eb1b-673a2286f263"
      },
      "execution_count": 16,
      "outputs": [
        {
          "output_type": "stream",
          "name": "stdout",
          "text": [
            "['I have three visions for India.', 'In 3000 years of our history people from all over the world have come and invaded us, captured our lands, conquered our minds.', 'From Alexander onwards the Greeks, the Turks, the Moguls, the Portuguese, the British, the French, the Dutch, all of them came and looted us, took over what was ours.', 'Yet we have not done this to any other nation.', 'We have not conquered anyone.', 'We have not grabbed their land, their culture and their history and tried to enforce our way of life on them.', 'Why?', 'Because we respect the freedom of others.', 'That is why my FIRST VISION is that of FREEDOM.', 'I believe that India got its first vision of this in 1857, when we started the war of Independence.', 'It is this freedom that we must protect and nurture and build on.', 'If we are not free, no one will respect us.', 'We have 10 percent growth rate in most areas.', 'Our poverty levels are falling.', 'Our achievements are being globally recognised today.', 'Yet we lack the self-confidence to see ourselves as a developed nation, self-reliant and self-assured.', 'Isn’t this incorrect?', 'MY SECOND VISION for India is DEVELOPMENT.', 'For fifty years we have been a developing nation.', 'It is time we see ourselves as a developed nation.', 'We are among top five nations in the world in terms of GDP.', 'I have a THIRD VISION.', 'India must stand up to the world.', 'Because I believe that unless India stands up to the world, no one will respect us.', 'Only strength respects strength.', 'We must be strong not only as a military power but also as an economic power.', 'Both must go hand-in-hand.', 'My good fortune was to have worked with three great minds.', 'Dr.Vikram Sarabhai, of the Dept.', 'of Space, Professor Satish Dhawan, who succeeded him and Dr. Brahm Prakash, father of nuclear material.', 'I was lucky to have worked with all three of them closely and consider this the great opportunity of my life.', 'I was in Hyderabad giving this lecture, when a 14 year-old girl asked me for my autograph.', 'I asked her what her goal in life is.', 'She replied: I want to live in a developed India.', 'For her, you and I will have to build this developed India.', 'You must proclaim India is not an underdeveloped nation; it is a highly developed nation.', 'You say that our government is inefficient.', 'You say that our laws are too old.', 'You say that the municipality does not pick up the garbage.', 'You say that the phones don’t work, the railways are a joke, the airline is the worst in the world, and mails never reach their destination.', 'You say that our country has been fed to the dogs and is the absolute pits.', 'You say, say and say.', 'What do you do about it?']\n"
          ]
        },
        {
          "output_type": "stream",
          "name": "stderr",
          "text": [
            "[nltk_data] Downloading package punkt_tab to /root/nltk_data...\n",
            "[nltk_data]   Package punkt_tab is already up-to-date!\n"
          ]
        }
      ]
    },
    {
      "cell_type": "code",
      "source": [
        "#remove special characters\n",
        "import re\n",
        "for i in range(len(s)):\n",
        "  s[i]=re.sub('[^a-zA-Z]',' ',s[i])\n",
        "  s[i]=s[i].lower()\n",
        "print(s)"
      ],
      "metadata": {
        "colab": {
          "base_uri": "https://localhost:8080/"
        },
        "id": "xn1iKSfiLd2T",
        "outputId": "01a3cbf7-2e66-45e0-d91d-40ad78c0a81c"
      },
      "execution_count": 17,
      "outputs": [
        {
          "output_type": "stream",
          "name": "stdout",
          "text": [
            "['i have three visions for india ', 'in      years of our history people from all over the world have come and invaded us  captured our lands  conquered our minds ', 'from alexander onwards the greeks  the turks  the moguls  the portuguese  the british  the french  the dutch  all of them came and looted us  took over what was ours ', 'yet we have not done this to any other nation ', 'we have not conquered anyone ', 'we have not grabbed their land  their culture and their history and tried to enforce our way of life on them ', 'why ', 'because we respect the freedom of others ', 'that is why my first vision is that of freedom ', 'i believe that india got its first vision of this in       when we started the war of independence ', 'it is this freedom that we must protect and nurture and build on ', 'if we are not free  no one will respect us ', 'we have    percent growth rate in most areas ', 'our poverty levels are falling ', 'our achievements are being globally recognised today ', 'yet we lack the self confidence to see ourselves as a developed nation  self reliant and self assured ', 'isn t this incorrect ', 'my second vision for india is development ', 'for fifty years we have been a developing nation ', 'it is time we see ourselves as a developed nation ', 'we are among top five nations in the world in terms of gdp ', 'i have a third vision ', 'india must stand up to the world ', 'because i believe that unless india stands up to the world  no one will respect us ', 'only strength respects strength ', 'we must be strong not only as a military power but also as an economic power ', 'both must go hand in hand ', 'my good fortune was to have worked with three great minds ', 'dr vikram sarabhai  of the dept ', 'of space  professor satish dhawan  who succeeded him and dr  brahm prakash  father of nuclear material ', 'i was lucky to have worked with all three of them closely and consider this the great opportunity of my life ', 'i was in hyderabad giving this lecture  when a    year old girl asked me for my autograph ', 'i asked her what her goal in life is ', 'she replied  i want to live in a developed india ', 'for her  you and i will have to build this developed india ', 'you must proclaim india is not an underdeveloped nation  it is a highly developed nation ', 'you say that our government is inefficient ', 'you say that our laws are too old ', 'you say that the municipality does not pick up the garbage ', 'you say that the phones don t work  the railways are a joke  the airline is the worst in the world  and mails never reach their destination ', 'you say that our country has been fed to the dogs and is the absolute pits ', 'you say  say and say ', 'what do you do about it ']\n"
          ]
        }
      ]
    },
    {
      "cell_type": "code",
      "source": [
        "#now remove stopwords and then apply stemming(porter stemmer)\n",
        "from nltk.stem import PorterStemmer\n",
        "stemmer=PorterStemmer()\n",
        "for i in range(len(s)):\n",
        "  w=nltk.word_tokenize(s[i])\n",
        "  w=[stemmer.stem(word) for word in w if word not in set(stopwords.words('english'))]\n",
        "  s[i]=' '.join(w)\n",
        "print(s)"
      ],
      "metadata": {
        "colab": {
          "base_uri": "https://localhost:8080/"
        },
        "id": "qy1oGNTLl8HW",
        "outputId": "b7f8afaa-579d-4626-9975-2a20997022a8"
      },
      "execution_count": 18,
      "outputs": [
        {
          "output_type": "stream",
          "name": "stdout",
          "text": [
            "['three vision india', 'year histori peopl world come invad us captur land conquer mind', 'alexand onward greek turk mogul portugues british french dutch came loot us took', 'yet done nation', 'conquer anyon', 'grab land cultur histori tri enforc way life', '', 'respect freedom other', 'first vision freedom', 'believ india got first vision start war independ', 'freedom must protect nurtur build', 'free one respect us', 'percent growth rate area', 'poverti level fall', 'achiev global recognis today', 'yet lack self confid see develop nation self reliant self assur', 'incorrect', 'second vision india develop', 'fifti year develop nation', 'time see develop nation', 'among top five nation world term gdp', 'third vision', 'india must stand world', 'believ unless india stand world one respect us', 'strength respect strength', 'must strong militari power also econom power', 'must go hand hand', 'good fortun work three great mind', 'dr vikram sarabhai dept', 'space professor satish dhawan succeed dr brahm prakash father nuclear materi', 'lucki work three close consid great opportun life', 'hyderabad give lectur year old girl ask autograph', 'ask goal life', 'repli want live develop india', 'build develop india', 'must proclaim india underdevelop nation highli develop nation', 'say govern ineffici', 'say law old', 'say municip pick garbag', 'say phone work railway joke airlin worst world mail never reach destin', 'say countri fed dog absolut pit', 'say say say', '']\n"
          ]
        }
      ]
    },
    {
      "cell_type": "code",
      "source": [
        "#now remove stopwords and then apply stemming(snowball stemmer)\n",
        "from nltk.stem import SnowballStemmer\n",
        "stemmer=SnowballStemmer('english')\n",
        "for i in range(len(s)):\n",
        "  w=nltk.word_tokenize(s[i])\n",
        "  w=[stemmer.stem(word) for word in w if word not in set(stopwords.words('english'))]\n",
        "  s[i]=' '.join(w)\n",
        "print(s)"
      ],
      "metadata": {
        "colab": {
          "base_uri": "https://localhost:8080/"
        },
        "id": "LPofgVa-nDXi",
        "outputId": "a460ba3d-38e1-4e2f-ac9e-961fb29262ae"
      },
      "execution_count": 19,
      "outputs": [
        {
          "output_type": "stream",
          "name": "stdout",
          "text": [
            "['three vision india', 'year histori peopl world come invad us captur land conquer mind', 'alexand onward greek turk mogul portugu british french dutch came loot us took', 'yet done nation', 'conquer anyon', 'grab land cultur histori tri enforc way life', '', 'respect freedom', 'first vision freedom', 'believ india got first vision start war independ', 'freedom must protect nurtur build', 'free one respect us', 'percent growth rate area', 'poverti level fall', 'achiev global recogni today', 'yet lack self confid see develop nation self reliant self assur', 'incorrect', 'second vision india develop', 'fifti year develop nation', 'time see develop nation', 'among top five nation world term gdp', 'third vision', 'india must stand world', 'believ unless india stand world one respect us', 'strength respect strength', 'must strong militari power also econom power', 'must go hand hand', 'good fortun work three great mind', 'dr vikram sarabhai dept', 'space professor satish dhawan succeed dr brahm prakash father nuclear materi', 'lucki work three close consid great opportun life', 'hyderabad give lectur year old girl ask autograph', 'ask goal life', 'repli want live develop india', 'build develop india', 'must proclaim india underdevelop nation high develop nation', 'say govern ineffici', 'say law old', 'say municip pick garbag', 'say phone work railway joke airlin worst world mail never reach destin', 'say countri fed dog absolut pit', 'say say say', '']\n"
          ]
        }
      ]
    },
    {
      "cell_type": "code",
      "source": [
        "#lemmetization\n",
        "from nltk.stem import WordNetLemmatizer\n",
        "nltk.download('wordnet')\n",
        "l=WordNetLemmatizer()\n",
        "k=[]\n",
        "for i in range(len(s)):\n",
        "  w=nltk.word_tokenize(s[i])\n",
        "  w=[l.lemmatize(word) for word in w if word not in set(stopwords.words('english'))]\n",
        "  w=' '.join(w)\n",
        "  k.append(w)\n",
        "print(k)"
      ],
      "metadata": {
        "colab": {
          "base_uri": "https://localhost:8080/"
        },
        "id": "JxXH8RM6nvXy",
        "outputId": "05496f2e-8d20-4627-d4e1-2cea78748eb2"
      },
      "execution_count": 20,
      "outputs": [
        {
          "output_type": "stream",
          "name": "stdout",
          "text": [
            "['three vision india', 'year histori peopl world come invad u captur land conquer mind', 'alexand onward greek turk mogul portugu british french dutch came loot u took', 'yet done nation', 'conquer anyon', 'grab land cultur histori tri enforc way life', '', 'respect freedom', 'first vision freedom', 'believ india got first vision start war independ', 'freedom must protect nurtur build', 'free one respect u', 'percent growth rate area', 'poverti level fall', 'achiev global recogni today', 'yet lack self confid see develop nation self reliant self assur', 'incorrect', 'second vision india develop', 'fifti year develop nation', 'time see develop nation', 'among top five nation world term gdp', 'third vision', 'india must stand world', 'believ unless india stand world one respect u', 'strength respect strength', 'must strong militari power also econom power', 'must go hand hand', 'good fortun work three great mind', 'dr vikram sarabhai dept', 'space professor satish dhawan succeed dr brahm prakash father nuclear materi', 'lucki work three close consid great opportun life', 'hyderabad give lectur year old girl ask autograph', 'ask goal life', 'repli want live develop india', 'build develop india', 'must proclaim india underdevelop nation high develop nation', 'say govern ineffici', 'say law old', 'say municip pick garbag', 'say phone work railway joke airlin worst world mail never reach destin', 'say countri fed dog absolut pit', 'say say say', '']\n"
          ]
        },
        {
          "output_type": "stream",
          "name": "stderr",
          "text": [
            "[nltk_data] Downloading package wordnet to /root/nltk_data...\n",
            "[nltk_data]   Package wordnet is already up-to-date!\n"
          ]
        }
      ]
    },
    {
      "cell_type": "markdown",
      "source": [
        "BAG OF WORDS\n"
      ],
      "metadata": {
        "id": "ZoS2WEsKtofH"
      }
    },
    {
      "cell_type": "code",
      "source": [
        "from sklearn.feature_extraction.text import CountVectorizer\n",
        "cv=CountVectorizer(max_features=1500)\n",
        "x=cv.fit_transform(s)\n",
        "print(s)"
      ],
      "metadata": {
        "colab": {
          "base_uri": "https://localhost:8080/"
        },
        "id": "blUmJylXuPHE",
        "outputId": "a065599d-9f3a-44b1-b543-da9d92e95f51"
      },
      "execution_count": 27,
      "outputs": [
        {
          "output_type": "stream",
          "name": "stdout",
          "text": [
            "['I have three visions for India.', 'In 3000 years of our history people from all over the world have come and invaded us, captured our lands, conquered our minds.', 'From Alexander onwards the Greeks, the Turks, the Moguls, the Portuguese, the British, the French, the Dutch, all of them came and looted us, took over what was ours.', 'Yet we have not done this to any other nation.', 'We have not conquered anyone.', 'We have not grabbed their land, their culture and their history and tried to enforce our way of life on them.', 'Why?', 'Because we respect the freedom of others.', 'That is why my FIRST VISION is that of FREEDOM.', 'I believe that India got its first vision of this in 1857, when we started the war of Independence.', 'It is this freedom that we must protect and nurture and build on.', 'If we are not free, no one will respect us.', 'We have 10 percent growth rate in most areas.', 'Our poverty levels are falling.', 'Our achievements are being globally recognised today.', 'Yet we lack the self-confidence to see ourselves as a developed nation, self-reliant and self-assured.', 'Isn’t this incorrect?', 'MY SECOND VISION for India is DEVELOPMENT.', 'For fifty years we have been a developing nation.', 'It is time we see ourselves as a developed nation.', 'We are among top five nations in the world in terms of GDP.', 'I have a THIRD VISION.', 'India must stand up to the world.', 'Because I believe that unless India stands up to the world, no one will respect us.', 'Only strength respects strength.', 'We must be strong not only as a military power but also as an economic power.', 'Both must go hand-in-hand.', 'My good fortune was to have worked with three great minds.', 'Dr.Vikram Sarabhai, of the Dept.', 'of Space, Professor Satish Dhawan, who succeeded him and Dr. Brahm Prakash, father of nuclear material.', 'I was lucky to have worked with all three of them closely and consider this the great opportunity of my life.', 'I was in Hyderabad giving this lecture, when a 14 year-old girl asked me for my autograph.', 'I asked her what her goal in life is.', 'She replied: I want to live in a developed India.', 'For her, you and I will have to build this developed India.', 'You must proclaim India is not an underdeveloped nation; it is a highly developed nation']\n"
          ]
        }
      ]
    },
    {
      "cell_type": "markdown",
      "source": [
        "All at once\n",
        "\n"
      ],
      "metadata": {
        "id": "EvH-n84vwfl2"
      }
    },
    {
      "cell_type": "code",
      "source": [
        "para='''I have three visions for India. In 3000 years of our history people from all over the world have come and invaded us, captured our lands, conquered our minds. From Alexander onwards the Greeks, the Turks, the Moguls, the Portuguese, the British, the French, the Dutch, all of them came and looted us, took over what was ours. Yet we have not done this to any other nation.\n",
        "\n",
        "We have not conquered anyone. We have not grabbed their land, their culture and their history and tried to enforce our way of life on them. Why? Because we respect the freedom of others. That is why my FIRST VISION is that of FREEDOM. I believe that India got its first vision of this in 1857, when we started the war of Independence. It is this freedom that we must protect and nurture and build on. If we are not free, no one will respect us.\n",
        "\n",
        "We have 10 percent growth rate in most areas. Our poverty levels are falling. Our achievements are being globally recognised today. Yet we lack the self-confidence to see ourselves as a developed nation, self-reliant and self-assured. Isn’t this incorrect? MY SECOND VISION for India is DEVELOPMENT. For fifty years we have been a developing nation. It is time we see ourselves as a developed nation. We are among top five nations in the world in terms of GDP.\n",
        "\n",
        "I have a THIRD VISION. India must stand up to the world. Because I believe that unless India stands up to the world, no one will respect us. Only strength respects strength. We must be strong not only as a military power but also as an economic power. Both must go hand-in-hand. My good fortune was to have worked with three great minds. Dr.Vikram Sarabhai, of the Dept. of Space, Professor Satish Dhawan, who succeeded him and Dr. Brahm Prakash, father of nuclear material. I was lucky to have worked with all three of them closely and consider this the great opportunity of my life.\n",
        "\n",
        "I was in Hyderabad giving this lecture, when a 14 year-old girl asked me for my autograph. I asked her what her goal in life is. She replied: I want to live in a developed India. For her, you and I will have to build this developed India. You must proclaim India is not an underdeveloped nation; it is a highly developed nation'''\n",
        "\n",
        "#cleaning the text\n",
        "\n",
        "import re#regular expression to remove special characters\n",
        "from nltk.corpus import stopwords#to remove unnecessary words\n",
        "from nltk.tokenize import sent_tokenize#to convert para into sentences\n",
        "from nltk.stem.porter import PorterStemmer#remove suffix to root word with no meaning,it automatically lower the words\n",
        "from nltk.stem import WordNetLemmatizer#also remove suffix but with meaning ful and valid words\n",
        "\n",
        "\n",
        "\n",
        "ps=PorterStemmer()\n",
        "ws=WordNetLemmatizer()\n",
        "\n",
        "#cleaning the text\n",
        "\n",
        "import re\n",
        "from nltk.corpus import stopwords\n",
        "from nltk.tokenize import sent_tokenize\n",
        "from nltk.stem.porter import PorterStemmer\n",
        "from nltk.stem import WordNetLemmatizer\n",
        "\n",
        "\n",
        "ps=PorterStemmer()\n",
        "ws=WordNetLemmatizer()\n",
        "\n",
        "#remove speacial characters (other than a-z and A-Z)\n",
        "p=[]\n",
        "for i in range(len(s)):\n",
        "  q=re.sub('[^a-zA-Z]','',s[i])\n",
        "  p.append(q)\n",
        "print(\"output of re-\",p)\n",
        "\n",
        "\n",
        "#tokenization\n",
        "s=nltk.sent_tokenize(para)\n",
        "print(\"output os tokenization-\",s)\n",
        "\n",
        "#stemming\n",
        "k=[]\n",
        "for i in range(len(s)):\n",
        "  w=nltk.word_tokenize(s[i])\n",
        "  w=[ps.stem(word) for word in w if word not in set(stopwords.words('english'))]\n",
        "  k.append(w)\n",
        "print(\"output of ps-remove sw-\",k)\n",
        "\n",
        "\n",
        "\n",
        "\n",
        "#lemetization\n",
        "l=[]\n",
        "for i in range(len(s)):\n",
        "  d=re.sub('[^a-zA-Z]', ' ',s[i])\n",
        "  d=d.lower()\n",
        "  d=d.split()\n",
        "  d=[ws.lemmatize(word) for word in d if word not in set(stopwords.words('english'))]\n",
        "  d='  '.join(d)\n",
        "  l.append(d)\n",
        "print(\"output of lemetization-\",l)\n",
        "\n",
        "\n",
        "#creating  bag of words model\n",
        "from sklearn.feature_extraction.text import CountVectorizer\n",
        "cv=CountVectorizer(max_features=1500)\n",
        "z=cv.fit_transform(l)\n",
        "x=cv.fit_transform(l).toarray()\n",
        "print(z)#(36,126)-36 sentences,126 words\n",
        "print(\"output of bag of words-\", x)\n",
        "'''how mqtrix works:\n",
        "frst it remove stopwords an bring all unique words as features f1,f2,f3,f4,f5,f6....f10 in para.here total we have 126 unique words.we have 36 sentences .\n",
        "features:order based on frequency:alexander, india, three, vision\n",
        "first sentence-first row of matrix:                    0,1,1,1'''\n"
      ],
      "metadata": {
        "colab": {
          "base_uri": "https://localhost:8080/",
          "height": 1000
        },
        "id": "haJ5OKffwh-W",
        "outputId": "8ea3a402-8d75-4dac-de2c-d09640e6b030"
      },
      "execution_count": 28,
      "outputs": [
        {
          "output_type": "stream",
          "name": "stdout",
          "text": [
            "output of re- ['IhavethreevisionsforIndia', 'Inyearsofourhistorypeoplefromallovertheworldhavecomeandinvadeduscapturedourlandsconqueredourminds', 'FromAlexanderonwardstheGreekstheTurkstheMogulsthePortuguesetheBritishtheFrenchtheDutchallofthemcameandlootedustookoverwhatwasours', 'Yetwehavenotdonethistoanyothernation', 'Wehavenotconqueredanyone', 'Wehavenotgrabbedtheirlandtheircultureandtheirhistoryandtriedtoenforceourwayoflifeonthem', 'Why', 'Becausewerespectthefreedomofothers', 'ThatiswhymyFIRSTVISIONisthatofFREEDOM', 'IbelievethatIndiagotitsfirstvisionofthisinwhenwestartedthewarofIndependence', 'Itisthisfreedomthatwemustprotectandnurtureandbuildon', 'Ifwearenotfreenoonewillrespectus', 'Wehavepercentgrowthrateinmostareas', 'Ourpovertylevelsarefalling', 'Ourachievementsarebeinggloballyrecognisedtoday', 'Yetwelacktheselfconfidencetoseeourselvesasadevelopednationselfreliantandselfassured', 'Isntthisincorrect', 'MYSECONDVISIONforIndiaisDEVELOPMENT', 'Forfiftyyearswehavebeenadevelopingnation', 'Itistimeweseeourselvesasadevelopednation', 'WeareamongtopfivenationsintheworldintermsofGDP', 'IhaveaTHIRDVISION', 'Indiamuststanduptotheworld', 'BecauseIbelievethatunlessIndiastandsuptotheworldnoonewillrespectus', 'Onlystrengthrespectsstrength', 'Wemustbestrongnotonlyasamilitarypowerbutalsoasaneconomicpower', 'Bothmustgohandinhand', 'Mygoodfortunewastohaveworkedwiththreegreatminds', 'DrVikramSarabhaioftheDept', 'ofSpaceProfessorSatishDhawanwhosucceededhimandDrBrahmPrakashfatherofnuclearmaterial', 'Iwasluckytohaveworkedwithallthreeofthemcloselyandconsiderthisthegreatopportunityofmylife', 'IwasinHyderabadgivingthislecturewhenayearoldgirlaskedmeformyautograph', 'Iaskedherwhathergoalinlifeis', 'SherepliedIwanttoliveinadevelopedIndia', 'ForheryouandIwillhavetobuildthisdevelopedIndia', 'YoumustproclaimIndiaisnotanunderdevelopednationitisahighlydevelopednation']\n",
            "output os tokenization- ['I have three visions for India.', 'In 3000 years of our history people from all over the world have come and invaded us, captured our lands, conquered our minds.', 'From Alexander onwards the Greeks, the Turks, the Moguls, the Portuguese, the British, the French, the Dutch, all of them came and looted us, took over what was ours.', 'Yet we have not done this to any other nation.', 'We have not conquered anyone.', 'We have not grabbed their land, their culture and their history and tried to enforce our way of life on them.', 'Why?', 'Because we respect the freedom of others.', 'That is why my FIRST VISION is that of FREEDOM.', 'I believe that India got its first vision of this in 1857, when we started the war of Independence.', 'It is this freedom that we must protect and nurture and build on.', 'If we are not free, no one will respect us.', 'We have 10 percent growth rate in most areas.', 'Our poverty levels are falling.', 'Our achievements are being globally recognised today.', 'Yet we lack the self-confidence to see ourselves as a developed nation, self-reliant and self-assured.', 'Isn’t this incorrect?', 'MY SECOND VISION for India is DEVELOPMENT.', 'For fifty years we have been a developing nation.', 'It is time we see ourselves as a developed nation.', 'We are among top five nations in the world in terms of GDP.', 'I have a THIRD VISION.', 'India must stand up to the world.', 'Because I believe that unless India stands up to the world, no one will respect us.', 'Only strength respects strength.', 'We must be strong not only as a military power but also as an economic power.', 'Both must go hand-in-hand.', 'My good fortune was to have worked with three great minds.', 'Dr.Vikram Sarabhai, of the Dept.', 'of Space, Professor Satish Dhawan, who succeeded him and Dr. Brahm Prakash, father of nuclear material.', 'I was lucky to have worked with all three of them closely and consider this the great opportunity of my life.', 'I was in Hyderabad giving this lecture, when a 14 year-old girl asked me for my autograph.', 'I asked her what her goal in life is.', 'She replied: I want to live in a developed India.', 'For her, you and I will have to build this developed India.', 'You must proclaim India is not an underdeveloped nation; it is a highly developed nation']\n",
            "output of ps-remove sw- [['i', 'three', 'vision', 'india', '.'], ['in', '3000', 'year', 'histori', 'peopl', 'world', 'come', 'invad', 'us', ',', 'captur', 'land', ',', 'conquer', 'mind', '.'], ['from', 'alexand', 'onward', 'greek', ',', 'turk', ',', 'mogul', ',', 'portugues', ',', 'british', ',', 'french', ',', 'dutch', ',', 'came', 'loot', 'us', ',', 'took', '.'], ['yet', 'done', 'nation', '.'], ['we', 'conquer', 'anyon', '.'], ['we', 'grab', 'land', ',', 'cultur', 'histori', 'tri', 'enforc', 'way', 'life', '.'], ['whi', '?'], ['becaus', 'respect', 'freedom', 'other', '.'], ['that', 'first', 'vision', 'freedom', '.'], ['i', 'believ', 'india', 'got', 'first', 'vision', '1857', ',', 'start', 'war', 'independ', '.'], ['it', 'freedom', 'must', 'protect', 'nurtur', 'build', '.'], ['if', 'free', ',', 'one', 'respect', 'us', '.'], ['we', '10', 'percent', 'growth', 'rate', 'area', '.'], ['our', 'poverti', 'level', 'fall', '.'], ['our', 'achiev', 'global', 'recognis', 'today', '.'], ['yet', 'lack', 'self-confid', 'see', 'develop', 'nation', ',', 'self-reli', 'self-assur', '.'], ['isn', '’', 'incorrect', '?'], ['my', 'second', 'vision', 'india', 'develop', '.'], ['for', 'fifti', 'year', 'develop', 'nation', '.'], ['it', 'time', 'see', 'develop', 'nation', '.'], ['we', 'among', 'top', 'five', 'nation', 'world', 'term', 'gdp', '.'], ['i', 'third', 'vision', '.'], ['india', 'must', 'stand', 'world', '.'], ['becaus', 'i', 'believ', 'unless', 'india', 'stand', 'world', ',', 'one', 'respect', 'us', '.'], ['onli', 'strength', 'respect', 'strength', '.'], ['we', 'must', 'strong', 'militari', 'power', 'also', 'econom', 'power', '.'], ['both', 'must', 'go', 'hand-in-hand', '.'], ['my', 'good', 'fortun', 'work', 'three', 'great', 'mind', '.'], ['dr.vikram', 'sarabhai', ',', 'dept', '.'], ['space', ',', 'professor', 'satish', 'dhawan', ',', 'succeed', 'dr.', 'brahm', 'prakash', ',', 'father', 'nuclear', 'materi', '.'], ['i', 'lucki', 'work', 'three', 'close', 'consid', 'great', 'opportun', 'life', '.'], ['i', 'hyderabad', 'give', 'lectur', ',', '14', 'year-old', 'girl', 'ask', 'autograph', '.'], ['i', 'ask', 'goal', 'life', '.'], ['she', 'repli', ':', 'i', 'want', 'live', 'develop', 'india', '.'], ['for', ',', 'i', 'build', 'develop', 'india', '.'], ['you', 'must', 'proclaim', 'india', 'underdevelop', 'nation', ';', 'highli', 'develop', 'nation']]\n",
            "output of lemetization- ['three  vision  india', 'year  history  people  world  come  invaded  u  captured  land  conquered  mind', 'alexander  onwards  greek  turk  mogul  portuguese  british  french  dutch  came  looted  u  took', 'yet  done  nation', 'conquered  anyone', 'grabbed  land  culture  history  tried  enforce  way  life', '', 'respect  freedom  others', 'first  vision  freedom', 'believe  india  got  first  vision  started  war  independence', 'freedom  must  protect  nurture  build', 'free  one  respect  u', 'percent  growth  rate  area', 'poverty  level  falling', 'achievement  globally  recognised  today', 'yet  lack  self  confidence  see  developed  nation  self  reliant  self  assured', 'incorrect', 'second  vision  india  development', 'fifty  year  developing  nation', 'time  see  developed  nation', 'among  top  five  nation  world  term  gdp', 'third  vision', 'india  must  stand  world', 'believe  unless  india  stand  world  one  respect  u', 'strength  respect  strength', 'must  strong  military  power  also  economic  power', 'must  go  hand  hand', 'good  fortune  worked  three  great  mind', 'dr  vikram  sarabhai  dept', 'space  professor  satish  dhawan  succeeded  dr  brahm  prakash  father  nuclear  material', 'lucky  worked  three  closely  consider  great  opportunity  life', 'hyderabad  giving  lecture  year  old  girl  asked  autograph', 'asked  goal  life', 'replied  want  live  developed  india', 'build  developed  india', 'must  proclaim  india  underdeveloped  nation  highly  developed  nation']\n",
            "<Compressed Sparse Row sparse matrix of dtype 'int64'\n",
            "\twith 179 stored elements and shape (36, 126)>\n",
            "  Coords\tValues\n",
            "  (0, 108)\t1\n",
            "  (0, 118)\t1\n",
            "  (0, 58)\t1\n",
            "  (1, 124)\t1\n",
            "  (1, 54)\t1\n",
            "  (1, 81)\t1\n",
            "  (1, 123)\t1\n",
            "  (1, 16)\t1\n",
            "  (1, 59)\t1\n",
            "  (1, 14)\t1\n",
            "  (1, 61)\t1\n",
            "  (1, 18)\t1\n",
            "  (1, 70)\t1\n",
            "  (2, 1)\t1\n",
            "  (2, 78)\t1\n",
            "  (2, 50)\t1\n",
            "  (2, 114)\t1\n",
            "  (2, 71)\t1\n",
            "  (2, 83)\t1\n",
            "  (2, 11)\t1\n",
            "  (2, 39)\t1\n",
            "  (2, 28)\t1\n",
            "  (2, 13)\t1\n",
            "  (2, 66)\t1\n",
            "  (2, 111)\t1\n",
            "  :\t:\n",
            "  (31, 55)\t1\n",
            "  (31, 42)\t1\n",
            "  (31, 62)\t1\n",
            "  (31, 76)\t1\n",
            "  (31, 41)\t1\n",
            "  (31, 6)\t1\n",
            "  (31, 8)\t1\n",
            "  (32, 64)\t1\n",
            "  (32, 6)\t1\n",
            "  (32, 45)\t1\n",
            "  (33, 58)\t1\n",
            "  (33, 22)\t1\n",
            "  (33, 93)\t1\n",
            "  (33, 119)\t1\n",
            "  (33, 65)\t1\n",
            "  (34, 58)\t1\n",
            "  (34, 12)\t1\n",
            "  (34, 22)\t1\n",
            "  (35, 58)\t1\n",
            "  (35, 73)\t2\n",
            "  (35, 72)\t1\n",
            "  (35, 22)\t1\n",
            "  (35, 87)\t1\n",
            "  (35, 115)\t1\n",
            "  (35, 53)\t1\n",
            "output of bag of words- [[0 0 0 ... 0 0 0]\n",
            " [0 0 0 ... 1 1 0]\n",
            " [0 1 0 ... 0 0 0]\n",
            " ...\n",
            " [0 0 0 ... 0 0 0]\n",
            " [0 0 0 ... 0 0 0]\n",
            " [0 0 0 ... 0 0 0]]\n"
          ]
        },
        {
          "output_type": "execute_result",
          "data": {
            "text/plain": [
              "'how mqtrix works:\\nfrst it remove stopwords an bring all unique words as features f1,f2,f3,f4,f5,f6....f10 in para.here total we have 126 unique words.we have 36 sentences .\\nfeatures:order based on frequency:alexander, india, three, vision\\nfirst sentence-first row of matrix:                    0,1,1,1'"
            ],
            "application/vnd.google.colaboratory.intrinsic+json": {
              "type": "string"
            }
          },
          "metadata": {},
          "execution_count": 28
        }
      ]
    },
    {
      "cell_type": "code",
      "source": [
        "#tfidf\n",
        "\n",
        "from sklearn.feature_extraction.text import TfidfVectorizer\n",
        "cv=TfidfVectorizer()\n",
        "x=cv.fit_transform(l).toarray()\n",
        "print(x)"
      ],
      "metadata": {
        "id": "PJ4gOeTfAdc6",
        "colab": {
          "base_uri": "https://localhost:8080/"
        },
        "outputId": "b80b9a83-5a3a-4652-e906-d5f84f35e531"
      },
      "execution_count": 30,
      "outputs": [
        {
          "output_type": "stream",
          "name": "stdout",
          "text": [
            "[[0.         0.         0.         ... 0.         0.         0.        ]\n",
            " [0.         0.         0.         ... 0.26309754 0.28265739 0.        ]\n",
            " [0.         0.28867513 0.         ... 0.         0.         0.        ]\n",
            " ...\n",
            " [0.         0.         0.         ... 0.         0.         0.        ]\n",
            " [0.         0.         0.         ... 0.         0.         0.        ]\n",
            " [0.         0.         0.         ... 0.         0.         0.        ]]\n"
          ]
        }
      ]
    }
  ]
}